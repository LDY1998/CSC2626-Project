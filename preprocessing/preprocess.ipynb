{
 "cells": [
  {
   "cell_type": "code",
   "execution_count": 1,
   "metadata": {},
   "outputs": [],
   "source": [
    "import numpy as np"
   ]
  },
  {
   "cell_type": "code",
   "execution_count": 2,
   "metadata": {},
   "outputs": [
    {
     "name": "stdout",
     "output_type": "stream",
     "text": [
      "[[0.23961541 0.76834186 0.69030791 0.90029217 0.72805767 0.38426376\n",
      "  0.87034847 0.41307706 0.42950328 0.38432725]\n",
      " [0.58654367 0.39261357 0.74800166 0.02669392 0.57847006 0.52933518\n",
      "  0.61636922 0.20571294 0.39390383 0.28847835]]\n",
      "[[0.23961541 0.76834186 0.90029217 0.72805767 0.38426376 0.87034847\n",
      "  0.41307706 0.42950328 0.38432725]\n",
      " [0.58654367 0.39261357 0.02669392 0.57847006 0.52933518 0.61636922\n",
      "  0.20571294 0.39390383 0.28847835]]\n"
     ]
    }
   ],
   "source": [
    "a = np.random.random((2, 10))\n",
    "print(a)\n",
    "b = np.delete(a, 2, axis=1)\n",
    "print(b)"
   ]
  }
 ],
 "metadata": {
  "interpreter": {
   "hash": "2d1613cb0a5557d724654c75619e02c9991b92fd139f261b860f473945011f22"
  },
  "kernelspec": {
   "display_name": "Python 3.7.15 ('2541')",
   "language": "python",
   "name": "python3"
  },
  "language_info": {
   "codemirror_mode": {
    "name": "ipython",
    "version": 3
   },
   "file_extension": ".py",
   "mimetype": "text/x-python",
   "name": "python",
   "nbconvert_exporter": "python",
   "pygments_lexer": "ipython3",
   "version": "3.7.15"
  },
  "orig_nbformat": 4
 },
 "nbformat": 4,
 "nbformat_minor": 2
}
